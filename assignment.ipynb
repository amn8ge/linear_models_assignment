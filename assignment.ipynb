{
  "cells": [
    {
      "cell_type": "markdown",
      "id": "e0c7b14a-e5aa-4abc-b48b-b8a9d20dacac",
      "metadata": {
        "id": "e0c7b14a-e5aa-4abc-b48b-b8a9d20dacac"
      },
      "source": [
        "# Assignment: Linear Models\n",
        "## Do two questions in total: \"Q1+Q2\" or \"Q1+Q3\"\n",
        "### `! git clone https://github.com/ds3001f25/linear_models_assignment.git`"
      ]
    },
    {
      "cell_type": "markdown",
      "id": "ca1cfba3",
      "metadata": {
        "vscode": {
          "languageId": "plaintext"
        },
        "id": "ca1cfba3"
      },
      "source": [
        "**Q1.** Let's explore multiple linear regression in a two-variable case, to build more intuition about what is happening.\n",
        "\n",
        "Suppose the model is\n",
        "$$\n",
        "\\hat{y}_i = b_0 + b_1 z_{i1} + b_2 z_{i2}\n",
        "$$\n",
        "Assume that $z_{ij}$ is centered or de-meaned, so that $z_{ij} = x_{ij} - m_j$ where $m_j$ is the mean of variable $j$ and $x_{ij}$ is the original value of variable $j$ for observation $i$. Notice that this implies\n",
        "$$\n",
        "\\dfrac{1}{N} \\sum_{i=1}^N z_{ij} = 0\n",
        "$$\n",
        "which will simplify your calculations below substantially!\n",
        "\n",
        "1. Write down the SSE for this model.\n",
        "2. Take partial derivatives with respect to $b_0$, $b_1$, and $b_2$.\n",
        "3. Verify that the average error is zero and $e \\cdot z =0$ at the optimum, just as in the single linear regression case.\n",
        "4. Show that the optimal intercept is $b_0^* = \\bar{y}$. Eliminate $b_0^*$ from the remaining equations, and focus on $b_1$ and $b_2$.\n",
        "5. Write your results as a matrix equation in the form \"$Ab=C$\". These are called the **normal equations**.\n",
        "6. Divide both sides by $N$ and substitute $z_{ij} = x_{ij} - m_j$ back into your normal equations for $x_{ij}$. What is the matrix $A$? What is the vector $C$? Explain the intuition of your discovery."
      ]
    },
    {
      "cell_type": "markdown",
      "source": [
        "Written work for Q1 can be found on my forked repo."
      ],
      "metadata": {
        "id": "XfLFHMW5237E"
      },
      "id": "XfLFHMW5237E"
    },
    {
      "cell_type": "markdown",
      "id": "aedcd486",
      "metadata": {
        "id": "aedcd486"
      },
      "source": [
        "**Q3.** This question refers to the `heart_hw.csv` data. It contains three variables:\n",
        "\n",
        "  - `y`: Whether the individual survived for three years, coded 0 for death and 1 for survival\n",
        "  - `age`: Patient's age\n",
        "  - `transplant`: `control` for not receiving a transplant and `treatment` for receiving a transplant\n",
        "\n",
        "Since a heart transplant is a dangerous operation and even people who successfully get heart transplants might suffer later complications, we want to look at whether a group of transplant recipients tends to survive longer than a comparison group who does not get the procedure.\n",
        "\n",
        "1. Compute (a) the proportion of people who survive in the control group who do not receive a transplant, and (b) the difference between the proportion of people who survive in the treatment group and the proportion of people who survive in the control group. In a randomized controlled trial, this is called the **average treatment effect**.\n",
        "2. Regress `y` on `transplant` using a linear model with a constant. How does the constant/intercept of the regression and the coefficient on transplant compare to your answers from part 1? Explain the relationship clearly.\n",
        "3. We'd like to include `age` in the regression, since it's reasonable to expect that older patients are less likely to survive an extensive surgery like a heart transplant. Regress `y` on a constant, transplant, and age. How does the intercept change?\n",
        "4. Build a more flexible model that allows for non-linear age effects and interactions between age and treatment. Use a train-test split to validate your model. Estimate your best model, predict the survival probability by age, and plot your results conditional on receiving a transplant and not. Describe what you see.\n",
        "5. Imagine someone suggests using these kinds of models to select who receives organ transplants; perhaps the CDC or NIH starts using a scoring algorithm to decide who is contacted about a potential organ. What are your concerns about how it is built and how it is deployed?"
      ]
    },
    {
      "cell_type": "code",
      "execution_count": 1,
      "id": "b005058d",
      "metadata": {
        "colab": {
          "base_uri": "https://localhost:8080/"
        },
        "id": "b005058d",
        "outputId": "c64fccb9-1370-4a37-86af-cf7fe25d2979"
      },
      "outputs": [
        {
          "output_type": "stream",
          "name": "stdout",
          "text": [
            "Cloning into 'linear_models_assignment'...\n",
            "remote: Enumerating objects: 9, done.\u001b[K\n",
            "remote: Counting objects: 100% (9/9), done.\u001b[K\n",
            "remote: Compressing objects: 100% (8/8), done.\u001b[K\n",
            "remote: Total 9 (delta 0), reused 6 (delta 0), pack-reused 0 (from 0)\u001b[K\n",
            "Receiving objects: 100% (9/9), 18.05 KiB | 659.00 KiB/s, done.\n"
          ]
        }
      ],
      "source": [
        "! git clone https://github.com/ds3001f25/linear_models_assignment.git"
      ]
    },
    {
      "cell_type": "code",
      "source": [
        "cd linear_models_assignment/"
      ],
      "metadata": {
        "colab": {
          "base_uri": "https://localhost:8080/"
        },
        "id": "Z3fK8OwmxvOi",
        "outputId": "52f5b707-a8e9-46a1-fa07-80a9c7f151a3"
      },
      "id": "Z3fK8OwmxvOi",
      "execution_count": 2,
      "outputs": [
        {
          "output_type": "stream",
          "name": "stdout",
          "text": [
            "/content/linear_models_assignment\n"
          ]
        }
      ]
    },
    {
      "cell_type": "code",
      "source": [
        "%cd data/"
      ],
      "metadata": {
        "colab": {
          "base_uri": "https://localhost:8080/"
        },
        "id": "YadbcYjoxqnt",
        "outputId": "0068fdb2-2f33-4560-8c04-38a17316945d"
      },
      "id": "YadbcYjoxqnt",
      "execution_count": 3,
      "outputs": [
        {
          "output_type": "stream",
          "name": "stdout",
          "text": [
            "/content/linear_models_assignment/data\n"
          ]
        }
      ]
    },
    {
      "cell_type": "code",
      "source": [
        "ls -al"
      ],
      "metadata": {
        "colab": {
          "base_uri": "https://localhost:8080/"
        },
        "id": "2ZkXVYTExzhd",
        "outputId": "69404d66-d3a4-49e5-e86b-ed47091bb6da"
      },
      "id": "2ZkXVYTExzhd",
      "execution_count": 4,
      "outputs": [
        {
          "output_type": "stream",
          "name": "stdout",
          "text": [
            "total 100\n",
            "drwxr-xr-x 2 root root  4096 Oct  2 14:01 \u001b[0m\u001b[01;34m.\u001b[0m/\n",
            "drwxr-xr-x 4 root root  4096 Oct  2 14:01 \u001b[01;34m..\u001b[0m/\n",
            "-rw-r--r-- 1 root root 88346 Oct  2 14:01 cars_hw.csv\n",
            "-rw-r--r-- 1 root root  2322 Oct  2 14:01 heart_hw.csv\n"
          ]
        }
      ]
    },
    {
      "cell_type": "code",
      "source": [
        "import numpy as np\n",
        "import pandas as pd\n",
        "import matplotlib.pyplot as plt\n",
        "import seaborn as sns"
      ],
      "metadata": {
        "id": "8biDf5lLx013"
      },
      "id": "8biDf5lLx013",
      "execution_count": 5,
      "outputs": []
    },
    {
      "cell_type": "markdown",
      "source": [
        "3.1"
      ],
      "metadata": {
        "id": "wb4rBS2pMfnj"
      },
      "id": "wb4rBS2pMfnj"
    },
    {
      "cell_type": "code",
      "execution_count": 7,
      "id": "d9b3a79a",
      "metadata": {
        "colab": {
          "base_uri": "https://localhost:8080/"
        },
        "id": "d9b3a79a",
        "outputId": "c685576a-4db3-4c37-9430-ae4ccce76b53"
      },
      "outputs": [
        {
          "output_type": "stream",
          "name": "stdout",
          "text": [
            "Proportion surviving in control group: 0.11764705882352941\n",
            "Avg treatment effect: 0.23017902813299232\n"
          ]
        }
      ],
      "source": [
        "heart = pd.read_csv('heart_hw.csv')\n",
        "# calculate proportion of people who survive in the control group\n",
        "control = heart[heart['transplant'] == 'control']\n",
        "survive_control = control['y'].mean()\n",
        "\n",
        "# calc proportion of people who survive in the treatment group\n",
        "treatment_group = heart[heart['transplant'] == 'treatment']\n",
        "survive_treatment = treatment_group['y'].mean()\n",
        "\n",
        "# calc average treatment effect as difference in survival proportions\n",
        "diff_survival = survive_treatment - survive_control\n",
        "\n",
        "print(f\"Proportion surviving in control group: {survive_control}\")\n",
        "print(f\"Avg treatment effect: {diff_survival}\")"
      ]
    },
    {
      "cell_type": "markdown",
      "source": [
        "3.2"
      ],
      "metadata": {
        "id": "YldLgLWEM31r"
      },
      "id": "YldLgLWEM31r"
    },
    {
      "cell_type": "code",
      "source": [
        "from sklearn.linear_model import LinearRegression\n",
        "\n",
        "# convert transplant to a binary indicator\n",
        "# control=0, treatment=1\n",
        "heart['transplant_binary'] = (heart['transplant'] == 'treatment').astype(int)\n",
        "\n",
        "# define independent var x with a constant/dependent y\n",
        "X = heart[['transplant_binary']]\n",
        "y = heart['y']\n",
        "\n",
        "# fit the linear regression model\n",
        "model = LinearRegression()\n",
        "model.fit(X, y)\n",
        "\n",
        "# make intercept and coefficient\n",
        "intercept = model.intercept_\n",
        "coef_transplant = model.coef_[0]\n",
        "\n",
        "print(f\"Intercept (constant): {intercept}\")\n",
        "print(f\"Coefficient on transplant: {coef_transplant}\")\n"
      ],
      "metadata": {
        "colab": {
          "base_uri": "https://localhost:8080/"
        },
        "id": "LShrYUkozpa0",
        "outputId": "d3e40d80-0ad8-4d6f-9bb3-8f4e5a3ea3ee"
      },
      "id": "LShrYUkozpa0",
      "execution_count": null,
      "outputs": [
        {
          "output_type": "stream",
          "name": "stdout",
          "text": [
            "Intercept (constant): 0.1176470588235293\n",
            "Coefficient on transplant: 0.23017902813299249\n"
          ]
        }
      ]
    },
    {
      "cell_type": "markdown",
      "source": [
        "The constant (intercept) in the regression and the coefficient on transplant match my answers from part 1 because they are estimating the same values, the impact of treatment, using alternative approaches. The intercept (0.1176) from the second part is the survival rate for people who have zero treatment, which is equivalent to the estimated mean outcome (proportion surviving) for the control group. Likewise, the coefficient on the transplant is the difference in mean outcome for people who undergo treatment as opposed to not undergoing treatment. This is the same as the difference between treatment effects that we calculated in part 1."
      ],
      "metadata": {
        "id": "d4sRLVgpO-lA"
      },
      "id": "d4sRLVgpO-lA"
    },
    {
      "cell_type": "markdown",
      "source": [
        "3.3"
      ],
      "metadata": {
        "id": "HpxD7Xw_M6gz"
      },
      "id": "HpxD7Xw_M6gz"
    },
    {
      "cell_type": "code",
      "source": [
        "X = heart[['transplant_binary', 'age']]\n",
        "y = heart['y']\n",
        "\n",
        "# create and fit the linear regression model\n",
        "model = LinearRegression()\n",
        "model.fit(X, y)\n",
        "\n",
        "# extract intercept and coefficients\n",
        "intercept = model.intercept_\n",
        "coef_transplant = model.coef_[0]\n",
        "coef_age = model.coef_[1]\n",
        "\n",
        "print(f\"Intercept (constant): {intercept}\")\n",
        "print(f\"Coefficient on transplant: {coef_transplant}\")\n",
        "print(f\"Coefficient on age: {coef_age}\")"
      ],
      "metadata": {
        "colab": {
          "base_uri": "https://localhost:8080/"
        },
        "id": "qjc5L9WJ0doN",
        "outputId": "0295e8c0-97bb-4b3b-cbfe-d7faf07441d0"
      },
      "id": "qjc5L9WJ0doN",
      "execution_count": null,
      "outputs": [
        {
          "output_type": "stream",
          "name": "stdout",
          "text": [
            "Intercept (constant): 0.7019569721740947\n",
            "Coefficient on transplant: 0.2647016865036751\n",
            "Coefficient on age: -0.013607217160218647\n"
          ]
        }
      ]
    },
    {
      "cell_type": "markdown",
      "source": [
        "The intercept increases significantly once age is introduced as a variable, since the impact of age was previously muddling the impact of treatment on survival and biasing it and the intercept downward—this is because age is negatively correlated with survival. The intercept has moves upward once the negative impact of age has been accounted for."
      ],
      "metadata": {
        "id": "_lrWaWT9QCLH"
      },
      "id": "_lrWaWT9QCLH"
    },
    {
      "cell_type": "markdown",
      "source": [
        "3.4"
      ],
      "metadata": {
        "id": "q5VH60zKM9-L"
      },
      "id": "q5VH60zKM9-L"
    },
    {
      "cell_type": "code",
      "source": [
        "from sklearn.model_selection import train_test_split\n",
        "\n",
        "# create interaction and non-linear terms\n",
        "heart['age_squared'] = heart['age'] ** 2\n",
        "heart['interaction'] = heart['transplant_binary'] * heart['age']\n",
        "\n",
        "# define feature set with transplant, age, age sqd, interaction\n",
        "X = heart[['transplant_binary', 'age', 'age_squared', 'interaction']]\n",
        "y = heart['y']\n",
        "\n",
        "# split data into training (80%) and test (20%) sets\n",
        "X_train, X_test, y_train, y_test = train_test_split(X, y, test_size=0.2, random_state=42)\n",
        "\n",
        "# fit the linear regression model on the training set\n",
        "model = LinearRegression()\n",
        "model.fit(X_train, y_train)\n",
        "\n",
        "# predict survival probability over a range of ages for treatment and control\n",
        "ages = np.linspace(heart['age'].min(), heart['age'].max(), 100)\n",
        "treatment = 1\n",
        "control = 0\n",
        "\n",
        "# helper function to create design matrix for prediction\n",
        "def create_design_matrix(transplant_value):\n",
        "    age_sq = ages ** 2\n",
        "    interaction_term = transplant_value * ages\n",
        "    df_pred = np.column_stack((np.full_like(ages, transplant_value), ages, age_sq, interaction_term))\n",
        "    return df_pred\n",
        "\n",
        "X_pred_treatment = create_design_matrix(treatment)\n",
        "X_pred_control = create_design_matrix(control)\n",
        "\n",
        "# predict survival probabilities\n",
        "y_pred_treatment = model.predict(X_pred_treatment)\n",
        "y_pred_control = model.predict(X_pred_control)\n",
        "\n",
        "# plot results\n",
        "plt.figure(figsize=(10,6))\n",
        "plt.plot(ages, y_pred_control, label='Control')\n",
        "plt.plot(ages, y_pred_treatment, label='Treatment')\n",
        "plt.xlabel('Age')\n",
        "plt.ylabel('Predicted Survival Probability')\n",
        "plt.title('Predicted Survival Probability by Age and Transplant Status')\n",
        "plt.legend()\n",
        "plt.grid(True)\n",
        "plt.show()"
      ],
      "metadata": {
        "colab": {
          "base_uri": "https://localhost:8080/",
          "height": 488
        },
        "id": "hVvDS_NO02Yl",
        "outputId": "0832a495-643c-4985-e3d3-6d5618391304"
      },
      "id": "hVvDS_NO02Yl",
      "execution_count": null,
      "outputs": [
        {
          "output_type": "stream",
          "name": "stderr",
          "text": [
            "/usr/local/lib/python3.12/dist-packages/sklearn/utils/validation.py:2739: UserWarning: X does not have valid feature names, but LinearRegression was fitted with feature names\n",
            "  warnings.warn(\n",
            "/usr/local/lib/python3.12/dist-packages/sklearn/utils/validation.py:2739: UserWarning: X does not have valid feature names, but LinearRegression was fitted with feature names\n",
            "  warnings.warn(\n"
          ]
        },
        {
          "output_type": "display_data",
          "data": {
            "text/plain": [
              "<Figure size 1000x600 with 1 Axes>"
            ],
            "image/png": "[encoded data removed]"
          },
          "metadata": {}
        }
      ]
    },
    {
      "cell_type": "markdown",
      "source": [
        "This graph indicates the relationship between age and survival probability based on the type of treatment elected (to have a transplant or not). At first, the treatment effect is very large in favor of getting a transplant—over 0.6, but the survival probability for the treatment group steadily decreases with the age of the patient and the control group's survival probability increases slightly before also falling with age.\n",
        "\n",
        "The survival probability of treatment decreases much faster than the survival probability of the control group. The average treatment effect is fairly narrow after 50 years of age, and after around 60 years of age, it becomes safer to not elect to have a transplant. The survival probability even becomes negative after 60+, but this is impossible in actuality and more reflective of the limitations of using unrestricted polynomial and interaction terms in regressions."
      ],
      "metadata": {
        "id": "4NUUPYTlRblR"
      },
      "id": "4NUUPYTlRblR"
    },
    {
      "cell_type": "markdown",
      "source": [
        "3.5\n",
        "\n",
        "I would be concerned about basing such serious medical decisions on exclusively model suggestions. First and foremost, reducing medical profiles to a spare list of characteristics and a survival probability leaves people vulnerable to being de-prioritized unfairly. For example, someone over the age of 45 could theoretically be deemed a worse recipient than a 20 year old if the decision is purely model-based, but that decision should change if the 45 year old is in incredible shape and the 20 year old is morbidly obese. Suddenly, it would seem that the 45 year old would be a better recipient with a higher likelihood of survival, but the model wouldn't indicate that. The model cannot functionally include all the information that a doctor would want to include in their decision, which might lead to biased organ allocation.\n",
        "\n",
        "Second, the model itself might be trained on data that's not representative of the population. Furthermore, the use of any medical data to score models or patients presents privacy issues. It would require rigorous protections against misuse. I'm assuming many patients would not like to have their data be pooled in this manner, which also contributes to the misrepresentativty problem I outlined above."
      ],
      "metadata": {
        "id": "Bb1TPVIyNFgb"
      },
      "id": "Bb1TPVIyNFgb"
    }
  ],
  "metadata": {
    "colab": {
      "provenance": []
    },
    "kernelspec": {
      "display_name": "Python 3 (ipykernel)",
      "language": "python",
      "name": "python3"
    },
    "language_info": {
      "codemirror_mode": {
        "name": "ipython",
        "version": 3
      },
      "file_extension": ".py",
      "mimetype": "text/x-python",
      "name": "python",
      "nbconvert_exporter": "python",
      "pygments_lexer": "ipython3",
      "version": "3.10.18"
    }
  },
  "nbformat": 4,
  "nbformat_minor": 5
}